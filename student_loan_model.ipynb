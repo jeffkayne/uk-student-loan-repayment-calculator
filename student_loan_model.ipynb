{
 "cells": [
  {
   "cell_type": "code",
   "execution_count": 1,
   "metadata": {},
   "outputs": [],
   "source": [
    "import pandas as pd\n",
    "import numpy as np\n",
    "import matplotlib.pyplot as plt\n",
    "import json"
   ]
  },
  {
   "cell_type": "code",
   "execution_count": 2,
   "metadata": {},
   "outputs": [],
   "source": [
    "raw_loan_df = pd.read_csv('student_loan_data.csv')"
   ]
  },
  {
   "cell_type": "code",
   "execution_count": 3,
   "metadata": {},
   "outputs": [
    {
     "data": {
      "text/html": [
       "<div>\n",
       "<style scoped>\n",
       "    .dataframe tbody tr th:only-of-type {\n",
       "        vertical-align: middle;\n",
       "    }\n",
       "\n",
       "    .dataframe tbody tr th {\n",
       "        vertical-align: top;\n",
       "    }\n",
       "\n",
       "    .dataframe thead th {\n",
       "        text-align: right;\n",
       "    }\n",
       "</style>\n",
       "<table border=\"1\" class=\"dataframe\">\n",
       "  <thead>\n",
       "    <tr style=\"text-align: right;\">\n",
       "      <th></th>\n",
       "      <th>Date</th>\n",
       "      <th>Description</th>\n",
       "      <th>Debit</th>\n",
       "      <th>Credit</th>\n",
       "    </tr>\n",
       "  </thead>\n",
       "  <tbody>\n",
       "    <tr>\n",
       "      <th>75</th>\n",
       "      <td>2018-12-31</td>\n",
       "      <td>Interest  6.30%</td>\n",
       "      <td>316.14</td>\n",
       "      <td>0.0</td>\n",
       "    </tr>\n",
       "    <tr>\n",
       "      <th>76</th>\n",
       "      <td>2019-01-31</td>\n",
       "      <td>Interest  6.30%</td>\n",
       "      <td>317.78</td>\n",
       "      <td>0.0</td>\n",
       "    </tr>\n",
       "    <tr>\n",
       "      <th>77</th>\n",
       "      <td>2019-02-19</td>\n",
       "      <td>Repayment Received</td>\n",
       "      <td>0.00</td>\n",
       "      <td>84.0</td>\n",
       "    </tr>\n",
       "    <tr>\n",
       "      <th>78</th>\n",
       "      <td>2019-02-28</td>\n",
       "      <td>Interest  6.30%</td>\n",
       "      <td>288.38</td>\n",
       "      <td>0.0</td>\n",
       "    </tr>\n",
       "    <tr>\n",
       "      <th>79</th>\n",
       "      <td>2019-03-31</td>\n",
       "      <td>Interest  6.30%</td>\n",
       "      <td>320.49</td>\n",
       "      <td>0.0</td>\n",
       "    </tr>\n",
       "  </tbody>\n",
       "</table>\n",
       "</div>"
      ],
      "text/plain": [
       "         Date         Description   Debit  Credit\n",
       "75 2018-12-31     Interest  6.30%  316.14     0.0\n",
       "76 2019-01-31     Interest  6.30%  317.78     0.0\n",
       "77 2019-02-19  Repayment Received    0.00    84.0\n",
       "78 2019-02-28     Interest  6.30%  288.38     0.0\n",
       "79 2019-03-31     Interest  6.30%  320.49     0.0"
      ]
     },
     "execution_count": 3,
     "metadata": {},
     "output_type": "execute_result"
    }
   ],
   "source": [
    "# clean\n",
    "raw_loan_df['Date'] = pd.to_datetime(raw_loan_df['Date'], dayfirst='True')\n",
    "renamed_loan_df = raw_loan_df.rename(columns={'Transaction description' : 'Description', 'Debit (£)':'Debit', 'Credit (£)': 'Credit'})\n",
    "renamed_loan_df.sort_values(by='Date', inplace=True)\n",
    "renamed_loan_df.tail()"
   ]
  },
  {
   "cell_type": "code",
   "execution_count": 4,
   "metadata": {},
   "outputs": [],
   "source": [
    "# cumulative Debit\n",
    "renamed_loan_df = renamed_loan_df.reset_index(drop=True)\n",
    "for i in np.linspace(1, len(renamed_loan_df), len(renamed_loan_df)):\n",
    "    renamed_loan_df.loc[i-1, 'Cumul_debit'] = renamed_loan_df.loc[:i-1, 'Debit'].sum()"
   ]
  },
  {
   "cell_type": "code",
   "execution_count": 5,
   "metadata": {},
   "outputs": [],
   "source": [
    "# extract interest\n",
    "renamed_loan_df['Interest'] = renamed_loan_df['Description'].apply(lambda x: x[-5:-2] if x.startswith('Interest') else 0)"
   ]
  },
  {
   "cell_type": "code",
   "execution_count": 6,
   "metadata": {},
   "outputs": [
    {
     "data": {
      "text/html": [
       "<div>\n",
       "<style scoped>\n",
       "    .dataframe tbody tr th:only-of-type {\n",
       "        vertical-align: middle;\n",
       "    }\n",
       "\n",
       "    .dataframe tbody tr th {\n",
       "        vertical-align: top;\n",
       "    }\n",
       "\n",
       "    .dataframe thead th {\n",
       "        text-align: right;\n",
       "    }\n",
       "</style>\n",
       "<table border=\"1\" class=\"dataframe\">\n",
       "  <thead>\n",
       "    <tr style=\"text-align: right;\">\n",
       "      <th></th>\n",
       "      <th>Date</th>\n",
       "      <th>Description</th>\n",
       "      <th>Debit</th>\n",
       "      <th>Credit</th>\n",
       "      <th>Cumul_debit</th>\n",
       "      <th>Interest</th>\n",
       "    </tr>\n",
       "  </thead>\n",
       "  <tbody>\n",
       "    <tr>\n",
       "      <th>0</th>\n",
       "      <td>2014-04-06</td>\n",
       "      <td>Opening balance</td>\n",
       "      <td>0.00</td>\n",
       "      <td>0.0</td>\n",
       "      <td>0.00</td>\n",
       "      <td>0</td>\n",
       "    </tr>\n",
       "    <tr>\n",
       "      <th>1</th>\n",
       "      <td>2014-10-03</td>\n",
       "      <td>Maintenance Loan Payment</td>\n",
       "      <td>1719.63</td>\n",
       "      <td>0.0</td>\n",
       "      <td>1719.63</td>\n",
       "      <td>0</td>\n",
       "    </tr>\n",
       "    <tr>\n",
       "      <th>2</th>\n",
       "      <td>2014-10-15</td>\n",
       "      <td>Tuition Fee Loan Payment</td>\n",
       "      <td>2250.00</td>\n",
       "      <td>0.0</td>\n",
       "      <td>3969.63</td>\n",
       "      <td>0</td>\n",
       "    </tr>\n",
       "    <tr>\n",
       "      <th>3</th>\n",
       "      <td>2014-10-31</td>\n",
       "      <td>Interest  5.50%</td>\n",
       "      <td>12.37</td>\n",
       "      <td>0.0</td>\n",
       "      <td>3982.00</td>\n",
       "      <td>5.5</td>\n",
       "    </tr>\n",
       "    <tr>\n",
       "      <th>4</th>\n",
       "      <td>2014-11-30</td>\n",
       "      <td>Interest  5.50%</td>\n",
       "      <td>17.57</td>\n",
       "      <td>0.0</td>\n",
       "      <td>3999.57</td>\n",
       "      <td>5.5</td>\n",
       "    </tr>\n",
       "  </tbody>\n",
       "</table>\n",
       "</div>"
      ],
      "text/plain": [
       "        Date               Description    Debit  Credit  Cumul_debit Interest\n",
       "0 2014-04-06           Opening balance     0.00     0.0         0.00        0\n",
       "1 2014-10-03  Maintenance Loan Payment  1719.63     0.0      1719.63        0\n",
       "2 2014-10-15  Tuition Fee Loan Payment  2250.00     0.0      3969.63        0\n",
       "3 2014-10-31           Interest  5.50%    12.37     0.0      3982.00      5.5\n",
       "4 2014-11-30           Interest  5.50%    17.57     0.0      3999.57      5.5"
      ]
     },
     "execution_count": 6,
     "metadata": {},
     "output_type": "execute_result"
    }
   ],
   "source": [
    "renamed_loan_df.head(5)"
   ]
  },
  {
   "cell_type": "code",
   "execution_count": 7,
   "metadata": {},
   "outputs": [
    {
     "name": "stdout",
     "output_type": "stream",
     "text": [
      "Total Tuition Fee Loan Payment 36000.0\n",
      "Maintenance Loan Payment 17728.0\n",
      "Paid Interest:  8285.18\n"
     ]
    }
   ],
   "source": [
    "tuition = 'Tuition Fee Loan Payment' \n",
    "maintenance = 'Maintenance Loan Payment'\n",
    "print('Total Tuition Fee Loan Payment', renamed_loan_df.query('Description==\"{}\"'.format(tuition)).Debit.sum())\n",
    "print('Maintenance Loan Payment', renamed_loan_df.query('Description==\"{}\"'.format(maintenance)).Debit.sum())\n",
    "print('Paid Interest: ', renamed_loan_df.query('Description!=\"{}\" and Description!=\"{}\"'.format(tuition, maintenance)).Debit.sum())"
   ]
  },
  {
   "cell_type": "code",
   "execution_count": 8,
   "metadata": {},
   "outputs": [
    {
     "data": {
      "text/plain": [
       "<matplotlib.axes._subplots.AxesSubplot at 0x10eb1d208>"
      ]
     },
     "execution_count": 8,
     "metadata": {},
     "output_type": "execute_result"
    },
    {
     "data": {
      "image/png": "[encoded data removed]",
      "text/plain": [
       "<Figure size 432x288 with 1 Axes>"
      ]
     },
     "metadata": {
      "needs_background": "light"
     },
     "output_type": "display_data"
    }
   ],
   "source": [
    "renamed_loan_df.plot(x='Date', y='Cumul_debit')"
   ]
  },
  {
   "cell_type": "markdown",
   "metadata": {},
   "source": [
    "# Rules & payback model\n",
    "1. Plan 2 loans are written off 30 years after the April you were first due to repay. In this case April 2049.\n",
    "2. You repay 9% of the amount you earn over the monthly threshold of £2,143\n",
    "\n",
    "Example: \n",
    "Your annual income is £28,800 and you are paid a regular monthly wage. This means that each month your income is £2,400 (£28,800 divided by 12). This is over the Plan 2 monthly threshold of £2,143.\n",
    "Your income is £257 over the threshold (£2,400 minus £2,143). You will pay back £23 (9% of £257) each month."
   ]
  },
  {
   "cell_type": "code",
   "execution_count": 9,
   "metadata": {},
   "outputs": [],
   "source": [
    "def calc_monthly_payments(yearly_salary, one_shot):\n",
    "        threshold = 2143\n",
    "        monthly_payments = 0.09*((yearly_salary/12)-threshold)\n",
    "        return monthly_payments+one_shot"
   ]
  },
  {
   "cell_type": "code",
   "execution_count": 10,
   "metadata": {},
   "outputs": [],
   "source": [
    "def linear_yearly_salary_increase(current_yearly_salary, percent_increase):\n",
    "    return current_yearly_salary+percent_increase*current_yearly_salary"
   ]
  },
  {
   "cell_type": "code",
   "execution_count": 11,
   "metadata": {},
   "outputs": [],
   "source": [
    "def get_salaries(current_salary, percent_increase):    \n",
    "    salaries = [current_salary]\n",
    "    next_years_salary = current_salary\n",
    "    number_of_years = 30\n",
    "    years = [2019]\n",
    "    for i in np.linspace(1, number_of_years, number_of_years):\n",
    "        if next_years_salary < 300000:\n",
    "            salaries.append(round(linear_yearly_salary_increase(next_years_salary, percent_increase), 2))\n",
    "        else:\n",
    "            salaries.append(300000)\n",
    "        next_years_salary = linear_yearly_salary_increase(next_years_salary, percent_increase)\n",
    "        years.append(years[0]+i)\n",
    "    return salaries"
   ]
  },
  {
   "cell_type": "code",
   "execution_count": 12,
   "metadata": {},
   "outputs": [],
   "source": [
    "def calculate_incremental_debt(output, starting_debt):\n",
    "    debt = [starting_debt]\n",
    "    for i, monthly_repayment in enumerate(output['Monthly Repayment'].values):\n",
    "        debt[i] = debt[i]+debt[i]*output.loc[0, 'Interest']/12\n",
    "        repayment = round(debt[i] - monthly_repayment, 2)\n",
    "        if repayment > 0:\n",
    "            debt.append(repayment)\n",
    "        else:\n",
    "            debt.append(0)\n",
    "    return debt[:-1]"
   ]
  },
  {
   "cell_type": "code",
   "execution_count": 13,
   "metadata": {},
   "outputs": [],
   "source": [
    "# desired output => dataframe with columns [Month, Year, Debt, Interest, Monthly Repayment, Predicted Salary]\n",
    "def student_loan_model(current_debt, current_salary, salary_percent_increase, yearly_one_shot_percentage):\n",
    "    salaries = get_salaries(current_salary, salary_percent_increase)\n",
    "    yearly_df = pd.DataFrame({'Year': np.linspace(2019, 2019+30, 31)})\n",
    "    yearly_df['Predicted Salary'] = salaries\n",
    "    output = pd.DataFrame({'Date': pd.date_range(start='09/01/2019', end='09/01/2049', freq='M')})\n",
    "    output['Year'] = output['Date'].apply(lambda x: x.year)\n",
    "    output = output.merge(yearly_df)\n",
    "    output['Interest'] = 0.063\n",
    "    def h(x):\n",
    "        return x['Predicted Salary']*yearly_one_shot_percentage if x['Date'].month==1 else 0\n",
    "    output['Yearly One Shot Payback'] = output.apply(h, axis=1)\n",
    "    def g(x):\n",
    "        return calc_monthly_payments(x['Predicted Salary'], x['Yearly One Shot Payback'])\n",
    "    output['Monthly Repayment'] = output.apply(g, axis=1)\n",
    "    output['Total Repayment'] = output['Monthly Repayment'].cumsum()\n",
    "    output['Debt'] = calculate_incremental_debt(output, current_debt)    \n",
    "    def f(x):\n",
    "        return x['Total Repayment'] if x['Debt']!=0 else 0\n",
    "    output['Total Repayment'] = output.apply(f, axis=1)\n",
    "    return output"
   ]
  },
  {
   "cell_type": "code",
   "execution_count": 14,
   "metadata": {},
   "outputs": [],
   "source": [
    "# my params\n",
    "with open('my_predicted_salary.json', 'r') as myfile:\n",
    "    data=myfile.read()\n",
    "# parse file\n",
    "my_params = json.loads(data)"
   ]
  },
  {
   "cell_type": "code",
   "execution_count": 15,
   "metadata": {},
   "outputs": [
    {
     "data": {
      "text/plain": [
       "<matplotlib.axes._subplots.AxesSubplot at 0x110c03ef0>"
      ]
     },
     "execution_count": 15,
     "metadata": {},
     "output_type": "execute_result"
    },
    {
     "data": {
      "image/png": "[encoded data removed]",
      "text/plain": [
       "<Figure size 1080x504 with 1 Axes>"
      ]
     },
     "metadata": {
      "needs_background": "light"
     },
     "output_type": "display_data"
    }
   ],
   "source": [
    "# Plot results\n",
    "student_loan_model(my_params['current_debt'], my_params['current_salary'], my_params['salary_percent_increase'], my_params['yearly_one_shot_percentage']).plot(x='Date', y=['Debt', 'Total Repayment', 'Predicted Salary'], figsize=(15, 7))"
   ]
  },
  {
   "cell_type": "code",
   "execution_count": 16,
   "metadata": {
    "scrolled": true
   },
   "outputs": [
    {
     "ename": "NameError",
     "evalue": "name 'current_debt' is not defined",
     "output_type": "error",
     "traceback": [
      "\u001b[0;31m---------------------------------------------------------------------------\u001b[0m",
      "\u001b[0;31mNameError\u001b[0m                                 Traceback (most recent call last)",
      "\u001b[0;32m<ipython-input-16-f0ebe81213e6>\u001b[0m in \u001b[0;36m<module>\u001b[0;34m\u001b[0m\n\u001b[0;32m----> 1\u001b[0;31m \u001b[0mfinal_df\u001b[0m \u001b[0;34m=\u001b[0m \u001b[0mstudent_loan_model\u001b[0m\u001b[0;34m(\u001b[0m\u001b[0mcurrent_debt\u001b[0m\u001b[0;34m,\u001b[0m \u001b[0mcurrent_salary\u001b[0m\u001b[0;34m,\u001b[0m \u001b[0msalary_percent_increase\u001b[0m\u001b[0;34m,\u001b[0m \u001b[0myearly_one_shot_percentage\u001b[0m\u001b[0;34m)\u001b[0m\u001b[0;34m\u001b[0m\u001b[0;34m\u001b[0m\u001b[0m\n\u001b[0m\u001b[1;32m      2\u001b[0m \u001b[0mmax_payback\u001b[0m \u001b[0;34m=\u001b[0m \u001b[0mround\u001b[0m\u001b[0;34m(\u001b[0m\u001b[0mfinal_df\u001b[0m\u001b[0;34m[\u001b[0m\u001b[0;34m'Total Repayment'\u001b[0m\u001b[0;34m]\u001b[0m\u001b[0;34m.\u001b[0m\u001b[0mmax\u001b[0m\u001b[0;34m(\u001b[0m\u001b[0;34m)\u001b[0m\u001b[0;34m,\u001b[0m \u001b[0;36m2\u001b[0m\u001b[0;34m)\u001b[0m\u001b[0;34m\u001b[0m\u001b[0;34m\u001b[0m\u001b[0m\n\u001b[1;32m      3\u001b[0m \u001b[0mdate_payback\u001b[0m \u001b[0;34m=\u001b[0m \u001b[0mfinal_df\u001b[0m\u001b[0;34m.\u001b[0m\u001b[0mquery\u001b[0m\u001b[0;34m(\u001b[0m\u001b[0;34m'Debt==0'\u001b[0m\u001b[0;34m)\u001b[0m\u001b[0;34m[\u001b[0m\u001b[0;34m'Date'\u001b[0m\u001b[0;34m]\u001b[0m\u001b[0;34m.\u001b[0m\u001b[0mmin\u001b[0m\u001b[0;34m(\u001b[0m\u001b[0;34m)\u001b[0m\u001b[0;34m\u001b[0m\u001b[0;34m\u001b[0m\u001b[0m\n\u001b[1;32m      4\u001b[0m \u001b[0mprofit_off_my_ass\u001b[0m \u001b[0;34m=\u001b[0m \u001b[0mmax_payback\u001b[0m\u001b[0;34m-\u001b[0m\u001b[0;36m53728\u001b[0m\u001b[0;34m\u001b[0m\u001b[0;34m\u001b[0m\u001b[0m\n\u001b[1;32m      5\u001b[0m \u001b[0mprint\u001b[0m\u001b[0;34m(\u001b[0m\u001b[0;34mf'Total payment to those conts: {max_payback}'\u001b[0m\u001b[0;34m)\u001b[0m\u001b[0;34m\u001b[0m\u001b[0;34m\u001b[0m\u001b[0m\n",
      "\u001b[0;31mNameError\u001b[0m: name 'current_debt' is not defined"
     ]
    }
   ],
   "source": [
    "final_df = student_loan_model(current_debt, current_salary, salary_percent_increase, yearly_one_shot_percentage)\n",
    "max_payback = round(final_df['Total Repayment'].max(), 2)\n",
    "date_payback = final_df.query('Debt==0')['Date'].min()\n",
    "profit_off_my_ass = max_payback-53728\n",
    "print(f'Total payment to those conts: {max_payback}')\n",
    "print(f'Date of last payment: {str(date_payback)[:10]}')\n",
    "print(f'Their total profit: {profit_off_my_ass}')"
   ]
  },
  {
   "cell_type": "code",
   "execution_count": null,
   "metadata": {},
   "outputs": [],
   "source": [
    "final_df.head(10)"
   ]
  },
  {
   "cell_type": "code",
   "execution_count": null,
   "metadata": {},
   "outputs": [],
   "source": [
    "final_df['Yearly One Shot Payback'].sum()+final_df['Monthly Repayment'].sum()"
   ]
  },
  {
   "cell_type": "code",
   "execution_count": null,
   "metadata": {},
   "outputs": [],
   "source": [
    "final_df[(final_df['Year']>=2029) & (final_df['Year']<=2031)]"
   ]
  },
  {
   "cell_type": "code",
   "execution_count": null,
   "metadata": {},
   "outputs": [],
   "source": [
    "plt.figure(figsize=(17, 10))\n",
    "for salary_percent_increase in np.linspace(0.01, 0.1, 20):\n",
    "    res_df = student_loan_model(my_params['current_debt'], my_params['current_salary'], salary_percent_increase, my_params['yearly_one_shot_percentage'])\n",
    "    plt.plot(res_df.Date.values, res_df['Total Repayment'].values, label='{}%'.format(round(100*salary_percent_increase, 2)))\n",
    "plt.legend()\n",
    "plt.show()"
   ]
  },
  {
   "cell_type": "code",
   "execution_count": null,
   "metadata": {},
   "outputs": [],
   "source": []
  }
 ],
 "metadata": {
  "kernelspec": {
   "display_name": "Python 3",
   "language": "python",
   "name": "python3"
  },
  "language_info": {
   "codemirror_mode": {
    "name": "ipython",
    "version": 3
   },
   "file_extension": ".py",
   "mimetype": "text/x-python",
   "name": "python",
   "nbconvert_exporter": "python",
   "pygments_lexer": "ipython3",
   "version": "3.7.2"
  }
 },
 "nbformat": 4,
 "nbformat_minor": 2
}
